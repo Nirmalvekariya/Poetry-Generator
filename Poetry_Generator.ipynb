{
  "nbformat": 4,
  "nbformat_minor": 0,
  "metadata": {
    "accelerator": "GPU",
    "colab": {
      "name": "Poetry_Generator.ipynb",
      "provenance": [],
      "collapsed_sections": [],
      "toc_visible": true
    },
    "kernelspec": {
      "display_name": "Python 3",
      "language": "python",
      "name": "python3"
    },
    "language_info": {
      "codemirror_mode": {
        "name": "ipython",
        "version": 3
      },
      "file_extension": ".py",
      "mimetype": "text/x-python",
      "name": "python",
      "nbconvert_exporter": "python",
      "pygments_lexer": "ipython3",
      "version": "3.7.4"
    }
  },
  "cells": [
    {
      "cell_type": "code",
      "metadata": {
        "colab_type": "code",
        "id": "BOwsuGQQY9OL",
        "colab": {}
      },
      "source": [
        "from tensorflow.keras.preprocessing.sequence import pad_sequences\n",
        "from tensorflow.keras.layers import Embedding, LSTM, Dense, Dropout, Bidirectional\n",
        "from tensorflow.keras.preprocessing.text import Tokenizer\n",
        "from tensorflow.keras.models import Sequential\n",
        "from tensorflow.keras.optimizers import Adam\n",
        "from tensorflow.keras import regularizers\n",
        "import tensorflow.keras.utils as ku \n",
        "import numpy as np "
      ],
      "execution_count": 0,
      "outputs": []
    },
    {
      "cell_type": "markdown",
      "metadata": {
        "id": "eRKL2NANrplV",
        "colab_type": "text"
      },
      "source": [
        "# Tokenizing"
      ]
    },
    {
      "cell_type": "code",
      "metadata": {
        "colab_type": "code",
        "id": "PRnDnCW-Z7qv",
        "colab": {}
      },
      "source": [
        "tokenizer = Tokenizer()\n",
        "\n",
        "data = open('sonnets.txt').read()\n",
        "\n",
        "corpus = data.lower().split(\"\\n\")\n",
        "\n",
        "tokenizer.fit_on_texts(corpus)\n",
        "total_words = len(tokenizer.word_index) + 1\n"
      ],
      "execution_count": 0,
      "outputs": []
    },
    {
      "cell_type": "markdown",
      "metadata": {
        "id": "TNjBNKNdrpld",
        "colab_type": "text"
      },
      "source": [
        "# Create input sequences using list of tokens"
      ]
    },
    {
      "cell_type": "code",
      "metadata": {
        "id": "8mzjCHikrple",
        "colab_type": "code",
        "colab": {}
      },
      "source": [
        "input_sequences = []\n",
        "for line in corpus:\n",
        "    token_list = tokenizer.texts_to_sequences([line])[0]\n",
        "    for i in range(1, len(token_list)):\n",
        "        n_gram_sequence = token_list[:i+1]\n",
        "        input_sequences.append(n_gram_sequence)\n"
      ],
      "execution_count": 0,
      "outputs": []
    },
    {
      "cell_type": "markdown",
      "metadata": {
        "id": "OohOvwJurpln",
        "colab_type": "text"
      },
      "source": [
        "# Pad sequences "
      ]
    },
    {
      "cell_type": "code",
      "metadata": {
        "id": "Q8BNzeKdrplo",
        "colab_type": "code",
        "colab": {}
      },
      "source": [
        "max_sequence_len = max([len(x) for x in input_sequences])\n",
        "input_sequences = np.array(pad_sequences(input_sequences, maxlen=max_sequence_len, padding='pre'))"
      ],
      "execution_count": 0,
      "outputs": []
    },
    {
      "cell_type": "markdown",
      "metadata": {
        "id": "GJGKAyhDrplu",
        "colab_type": "text"
      },
      "source": [
        "# Create predictors and label"
      ]
    },
    {
      "cell_type": "code",
      "metadata": {
        "id": "w62YUddFrplw",
        "colab_type": "code",
        "colab": {}
      },
      "source": [
        "predictors, label = input_sequences[:,:-1],input_sequences[:,-1]\n",
        "\n",
        "label = ku.to_categorical(label, num_classes=total_words)"
      ],
      "execution_count": 0,
      "outputs": []
    },
    {
      "cell_type": "markdown",
      "metadata": {
        "id": "w742_jK4rpl2",
        "colab_type": "text"
      },
      "source": [
        "# Model Layers"
      ]
    },
    {
      "cell_type": "code",
      "metadata": {
        "colab_type": "code",
        "id": "w9vH8Y59ajYL",
        "outputId": "40e5d7ac-af56-4206-a56c-7d2197c8abce",
        "colab": {
          "base_uri": "https://localhost:8080/",
          "height": 370
        }
      },
      "source": [
        "model = Sequential()\n",
        "model.add(Embedding(total_words,150 , input_length=max_sequence_len-1))\n",
        "model.add(Bidirectional(LSTM(158, return_sequences=True)))\n",
        "model.add(Dropout(0.2))\n",
        "model.add(Bidirectional(LSTM(200)))\n",
        "model.add(Dense(1800, activation='relu',kernel_regularizer=regularizers.l2(0.01)))\n",
        "model.add(Dense(total_words, activation='softmax'))\n",
        "model.compile(optimizer=\"adam\", loss=\"categorical_crossentropy\",metrics=['accuracy'])\n",
        "print(model.summary())\n"
      ],
      "execution_count": 7,
      "outputs": [
        {
          "output_type": "stream",
          "text": [
            "Model: \"sequential\"\n",
            "_________________________________________________________________\n",
            "Layer (type)                 Output Shape              Param #   \n",
            "=================================================================\n",
            "embedding (Embedding)        (None, 10, 150)           481650    \n",
            "_________________________________________________________________\n",
            "bidirectional (Bidirectional (None, 10, 316)           390576    \n",
            "_________________________________________________________________\n",
            "dropout (Dropout)            (None, 10, 316)           0         \n",
            "_________________________________________________________________\n",
            "bidirectional_1 (Bidirection (None, 400)               827200    \n",
            "_________________________________________________________________\n",
            "dense (Dense)                (None, 1800)              721800    \n",
            "_________________________________________________________________\n",
            "dense_1 (Dense)              (None, 3211)              5783011   \n",
            "=================================================================\n",
            "Total params: 8,204,237\n",
            "Trainable params: 8,204,237\n",
            "Non-trainable params: 0\n",
            "_________________________________________________________________\n",
            "None\n"
          ],
          "name": "stdout"
        }
      ]
    },
    {
      "cell_type": "markdown",
      "metadata": {
        "id": "_N_R-fjorpl_",
        "colab_type": "text"
      },
      "source": [
        "# Model Fitting"
      ]
    },
    {
      "cell_type": "code",
      "metadata": {
        "colab_type": "code",
        "id": "AIg2f1HBxqof",
        "outputId": "8186c476-7d47-40a5-e708-8407331583fe",
        "scrolled": false,
        "colab": {
          "base_uri": "https://localhost:8080/",
          "height": 1000
        }
      },
      "source": [
        " history = model.fit(predictors, label, epochs=100, verbose=1)"
      ],
      "execution_count": 8,
      "outputs": [
        {
          "output_type": "stream",
          "text": [
            "Epoch 1/100\n",
            "484/484 [==============================] - 6s 13ms/step - loss: 7.0609 - accuracy: 0.0215\n",
            "Epoch 2/100\n",
            "484/484 [==============================] - 6s 13ms/step - loss: 6.5135 - accuracy: 0.0220\n",
            "Epoch 3/100\n",
            "484/484 [==============================] - 7s 14ms/step - loss: 6.4120 - accuracy: 0.0283\n",
            "Epoch 4/100\n",
            "484/484 [==============================] - 7s 14ms/step - loss: 6.2811 - accuracy: 0.0361\n",
            "Epoch 5/100\n",
            "484/484 [==============================] - 6s 13ms/step - loss: 6.1478 - accuracy: 0.0376\n",
            "Epoch 6/100\n",
            "484/484 [==============================] - 6s 13ms/step - loss: 6.0183 - accuracy: 0.0430\n",
            "Epoch 7/100\n",
            "484/484 [==============================] - 6s 13ms/step - loss: 5.8733 - accuracy: 0.0504\n",
            "Epoch 8/100\n",
            "484/484 [==============================] - 6s 13ms/step - loss: 5.7352 - accuracy: 0.0563\n",
            "Epoch 9/100\n",
            "484/484 [==============================] - 6s 13ms/step - loss: 5.6096 - accuracy: 0.0638\n",
            "Epoch 10/100\n",
            "484/484 [==============================] - 6s 13ms/step - loss: 5.4708 - accuracy: 0.0739\n",
            "Epoch 11/100\n",
            "484/484 [==============================] - 6s 13ms/step - loss: 5.3420 - accuracy: 0.0819\n",
            "Epoch 12/100\n",
            "484/484 [==============================] - 6s 13ms/step - loss: 5.2227 - accuracy: 0.0886\n",
            "Epoch 13/100\n",
            "484/484 [==============================] - 7s 13ms/step - loss: 5.0885 - accuracy: 0.1030\n",
            "Epoch 14/100\n",
            "484/484 [==============================] - 7s 14ms/step - loss: 4.9546 - accuracy: 0.1117\n",
            "Epoch 15/100\n",
            "484/484 [==============================] - 7s 14ms/step - loss: 4.8339 - accuracy: 0.1270\n",
            "Epoch 16/100\n",
            "484/484 [==============================] - 6s 13ms/step - loss: 4.6993 - accuracy: 0.1381\n",
            "Epoch 17/100\n",
            "484/484 [==============================] - 6s 13ms/step - loss: 4.5683 - accuracy: 0.1530\n",
            "Epoch 18/100\n",
            "484/484 [==============================] - 6s 13ms/step - loss: 4.4385 - accuracy: 0.1678\n",
            "Epoch 19/100\n",
            "484/484 [==============================] - 6s 13ms/step - loss: 4.2928 - accuracy: 0.1868\n",
            "Epoch 20/100\n",
            "484/484 [==============================] - 6s 13ms/step - loss: 4.1558 - accuracy: 0.2031\n",
            "Epoch 21/100\n",
            "484/484 [==============================] - 6s 13ms/step - loss: 4.0175 - accuracy: 0.2189\n",
            "Epoch 22/100\n",
            "484/484 [==============================] - 7s 14ms/step - loss: 3.8765 - accuracy: 0.2385\n",
            "Epoch 23/100\n",
            "484/484 [==============================] - 6s 13ms/step - loss: 3.7387 - accuracy: 0.2651\n",
            "Epoch 24/100\n",
            "484/484 [==============================] - 7s 13ms/step - loss: 3.5904 - accuracy: 0.2908\n",
            "Epoch 25/100\n",
            "484/484 [==============================] - 6s 13ms/step - loss: 3.4535 - accuracy: 0.3189\n",
            "Epoch 26/100\n",
            "484/484 [==============================] - 6s 13ms/step - loss: 3.3350 - accuracy: 0.3407\n",
            "Epoch 27/100\n",
            "484/484 [==============================] - 6s 13ms/step - loss: 3.2047 - accuracy: 0.3692\n",
            "Epoch 28/100\n",
            "484/484 [==============================] - 6s 13ms/step - loss: 3.0746 - accuracy: 0.3943\n",
            "Epoch 29/100\n",
            "484/484 [==============================] - 6s 13ms/step - loss: 2.9495 - accuracy: 0.4301\n",
            "Epoch 30/100\n",
            "484/484 [==============================] - 6s 13ms/step - loss: 2.8470 - accuracy: 0.4543\n",
            "Epoch 31/100\n",
            "484/484 [==============================] - 6s 13ms/step - loss: 2.7302 - accuracy: 0.4766\n",
            "Epoch 32/100\n",
            "484/484 [==============================] - 6s 13ms/step - loss: 2.6359 - accuracy: 0.5010\n",
            "Epoch 33/100\n",
            "484/484 [==============================] - 6s 13ms/step - loss: 2.5378 - accuracy: 0.5250\n",
            "Epoch 34/100\n",
            "484/484 [==============================] - 6s 13ms/step - loss: 2.4557 - accuracy: 0.5465\n",
            "Epoch 35/100\n",
            "484/484 [==============================] - 6s 13ms/step - loss: 2.3552 - accuracy: 0.5689\n",
            "Epoch 36/100\n",
            "484/484 [==============================] - 6s 13ms/step - loss: 2.2749 - accuracy: 0.5889\n",
            "Epoch 37/100\n",
            "484/484 [==============================] - 6s 13ms/step - loss: 2.1984 - accuracy: 0.6050\n",
            "Epoch 38/100\n",
            "484/484 [==============================] - 6s 13ms/step - loss: 2.1289 - accuracy: 0.6195\n",
            "Epoch 39/100\n",
            "484/484 [==============================] - 6s 13ms/step - loss: 2.0512 - accuracy: 0.6379\n",
            "Epoch 40/100\n",
            "484/484 [==============================] - 6s 13ms/step - loss: 1.9911 - accuracy: 0.6517\n",
            "Epoch 41/100\n",
            "484/484 [==============================] - 6s 13ms/step - loss: 1.9308 - accuracy: 0.6648\n",
            "Epoch 42/100\n",
            "484/484 [==============================] - 7s 14ms/step - loss: 1.8663 - accuracy: 0.6822\n",
            "Epoch 43/100\n",
            "484/484 [==============================] - 6s 13ms/step - loss: 1.8173 - accuracy: 0.6926\n",
            "Epoch 44/100\n",
            "484/484 [==============================] - 6s 13ms/step - loss: 1.7660 - accuracy: 0.7024\n",
            "Epoch 45/100\n",
            "484/484 [==============================] - 6s 13ms/step - loss: 1.7096 - accuracy: 0.7137\n",
            "Epoch 46/100\n",
            "484/484 [==============================] - 6s 13ms/step - loss: 1.6741 - accuracy: 0.7176\n",
            "Epoch 47/100\n",
            "484/484 [==============================] - 6s 13ms/step - loss: 1.6325 - accuracy: 0.7271\n",
            "Epoch 48/100\n",
            "484/484 [==============================] - 6s 13ms/step - loss: 1.5941 - accuracy: 0.7363\n",
            "Epoch 49/100\n",
            "484/484 [==============================] - 6s 13ms/step - loss: 1.5551 - accuracy: 0.7452\n",
            "Epoch 50/100\n",
            "484/484 [==============================] - 6s 13ms/step - loss: 1.5218 - accuracy: 0.7487\n",
            "Epoch 51/100\n",
            "484/484 [==============================] - 6s 13ms/step - loss: 1.4641 - accuracy: 0.7595\n",
            "Epoch 52/100\n",
            "484/484 [==============================] - 6s 13ms/step - loss: 1.4428 - accuracy: 0.7668\n",
            "Epoch 53/100\n",
            "484/484 [==============================] - 6s 13ms/step - loss: 1.4372 - accuracy: 0.7657\n",
            "Epoch 54/100\n",
            "484/484 [==============================] - 6s 13ms/step - loss: 1.3906 - accuracy: 0.7781\n",
            "Epoch 55/100\n",
            "484/484 [==============================] - 6s 13ms/step - loss: 1.3636 - accuracy: 0.7794\n",
            "Epoch 56/100\n",
            "484/484 [==============================] - 6s 13ms/step - loss: 1.3540 - accuracy: 0.7784\n",
            "Epoch 57/100\n",
            "484/484 [==============================] - 6s 13ms/step - loss: 1.3320 - accuracy: 0.7846\n",
            "Epoch 58/100\n",
            "484/484 [==============================] - 6s 13ms/step - loss: 1.2997 - accuracy: 0.7888\n",
            "Epoch 59/100\n",
            "484/484 [==============================] - 6s 13ms/step - loss: 1.3039 - accuracy: 0.7876\n",
            "Epoch 60/100\n",
            "484/484 [==============================] - 6s 13ms/step - loss: 1.2701 - accuracy: 0.7928\n",
            "Epoch 61/100\n",
            "484/484 [==============================] - 7s 14ms/step - loss: 1.2418 - accuracy: 0.7992\n",
            "Epoch 62/100\n",
            "484/484 [==============================] - 6s 13ms/step - loss: 1.2394 - accuracy: 0.7967\n",
            "Epoch 63/100\n",
            "484/484 [==============================] - 6s 13ms/step - loss: 1.2138 - accuracy: 0.8027\n",
            "Epoch 64/100\n",
            "484/484 [==============================] - 6s 13ms/step - loss: 1.1901 - accuracy: 0.8066\n",
            "Epoch 65/100\n",
            "484/484 [==============================] - 6s 13ms/step - loss: 1.1860 - accuracy: 0.8081\n",
            "Epoch 66/100\n",
            "484/484 [==============================] - 6s 13ms/step - loss: 1.1787 - accuracy: 0.8061\n",
            "Epoch 67/100\n",
            "484/484 [==============================] - 6s 13ms/step - loss: 1.1484 - accuracy: 0.8126\n",
            "Epoch 68/100\n",
            "484/484 [==============================] - 6s 13ms/step - loss: 1.1246 - accuracy: 0.8129\n",
            "Epoch 69/100\n",
            "484/484 [==============================] - 6s 13ms/step - loss: 1.1413 - accuracy: 0.8126\n",
            "Epoch 70/100\n",
            "484/484 [==============================] - 6s 13ms/step - loss: 1.1205 - accuracy: 0.8133\n",
            "Epoch 71/100\n",
            "484/484 [==============================] - 6s 13ms/step - loss: 1.1286 - accuracy: 0.8128\n",
            "Epoch 72/100\n",
            "484/484 [==============================] - 7s 14ms/step - loss: 1.1090 - accuracy: 0.8146\n",
            "Epoch 73/100\n",
            "484/484 [==============================] - 6s 13ms/step - loss: 1.0843 - accuracy: 0.8187\n",
            "Epoch 74/100\n",
            "484/484 [==============================] - 6s 13ms/step - loss: 1.0588 - accuracy: 0.8248\n",
            "Epoch 75/100\n",
            "484/484 [==============================] - 6s 13ms/step - loss: 1.0583 - accuracy: 0.8210\n",
            "Epoch 76/100\n",
            "484/484 [==============================] - 6s 13ms/step - loss: 1.0602 - accuracy: 0.8195\n",
            "Epoch 77/100\n",
            "484/484 [==============================] - 6s 13ms/step - loss: 1.0507 - accuracy: 0.8245\n",
            "Epoch 78/100\n",
            "484/484 [==============================] - 6s 13ms/step - loss: 1.0371 - accuracy: 0.8234\n",
            "Epoch 79/100\n",
            "484/484 [==============================] - 6s 13ms/step - loss: 1.0575 - accuracy: 0.8194\n",
            "Epoch 80/100\n",
            "484/484 [==============================] - 6s 13ms/step - loss: 1.0442 - accuracy: 0.8234\n",
            "Epoch 81/100\n",
            "484/484 [==============================] - 6s 13ms/step - loss: 1.0163 - accuracy: 0.8227\n",
            "Epoch 82/100\n",
            "484/484 [==============================] - 6s 13ms/step - loss: 1.0058 - accuracy: 0.8260\n",
            "Epoch 83/100\n",
            "484/484 [==============================] - 6s 13ms/step - loss: 0.9900 - accuracy: 0.8290\n",
            "Epoch 84/100\n",
            "484/484 [==============================] - 6s 13ms/step - loss: 0.9876 - accuracy: 0.8288\n",
            "Epoch 85/100\n",
            "484/484 [==============================] - 6s 13ms/step - loss: 0.9759 - accuracy: 0.8310\n",
            "Epoch 86/100\n",
            "484/484 [==============================] - 6s 13ms/step - loss: 0.9862 - accuracy: 0.8274\n",
            "Epoch 87/100\n",
            "484/484 [==============================] - 6s 13ms/step - loss: 0.9815 - accuracy: 0.8282\n",
            "Epoch 88/100\n",
            "484/484 [==============================] - 6s 13ms/step - loss: 0.9941 - accuracy: 0.8258\n",
            "Epoch 89/100\n",
            "484/484 [==============================] - 6s 13ms/step - loss: 0.9969 - accuracy: 0.8241\n",
            "Epoch 90/100\n",
            "484/484 [==============================] - 7s 14ms/step - loss: 0.9742 - accuracy: 0.8286\n",
            "Epoch 91/100\n",
            "484/484 [==============================] - 7s 14ms/step - loss: 0.9598 - accuracy: 0.8300\n",
            "Epoch 92/100\n",
            "484/484 [==============================] - 6s 13ms/step - loss: 0.9409 - accuracy: 0.8340\n",
            "Epoch 93/100\n",
            "484/484 [==============================] - 6s 13ms/step - loss: 0.9396 - accuracy: 0.8338\n",
            "Epoch 94/100\n",
            "484/484 [==============================] - 6s 13ms/step - loss: 0.9362 - accuracy: 0.8349\n",
            "Epoch 95/100\n",
            "484/484 [==============================] - 6s 13ms/step - loss: 0.9365 - accuracy: 0.8330\n",
            "Epoch 96/100\n",
            "484/484 [==============================] - 6s 13ms/step - loss: 0.9442 - accuracy: 0.8302\n",
            "Epoch 97/100\n",
            "484/484 [==============================] - 6s 13ms/step - loss: 0.9245 - accuracy: 0.8339\n",
            "Epoch 98/100\n",
            "484/484 [==============================] - 6s 13ms/step - loss: 0.9166 - accuracy: 0.8343\n",
            "Epoch 99/100\n",
            "484/484 [==============================] - 6s 13ms/step - loss: 0.9415 - accuracy: 0.8283\n",
            "Epoch 100/100\n",
            "484/484 [==============================] - 6s 13ms/step - loss: 0.9463 - accuracy: 0.8314\n"
          ],
          "name": "stdout"
        }
      ]
    },
    {
      "cell_type": "markdown",
      "metadata": {
        "id": "6FIlAimrrpmG",
        "colab_type": "text"
      },
      "source": [
        "# Accuracy and Loss Graph"
      ]
    },
    {
      "cell_type": "code",
      "metadata": {
        "colab_type": "code",
        "id": "1fXTEO3GJ282",
        "outputId": "0594d84f-4a63-485f-eb6e-ec3dc7775792",
        "colab": {
          "base_uri": "https://localhost:8080/",
          "height": 545
        }
      },
      "source": [
        "import matplotlib.pyplot as plt\n",
        "acc = history.history['accuracy']\n",
        "loss = history.history['loss']\n",
        "\n",
        "epochs = range(len(acc))\n",
        "\n",
        "plt.plot(epochs, acc, 'b', label='Training accuracy')\n",
        "plt.title('Training accuracy')\n",
        "\n",
        "plt.figure()\n",
        "\n",
        "plt.plot(epochs, loss, 'b', label='Training Loss')\n",
        "plt.title('Training loss')\n",
        "plt.legend()\n",
        "\n",
        "plt.show()"
      ],
      "execution_count": 9,
      "outputs": [
        {
          "output_type": "display_data",
          "data": {
            "image/png": "[encoded data removed]",
            "text/plain": [
              "<Figure size 432x288 with 1 Axes>"
            ]
          },
          "metadata": {
            "tags": [],
            "needs_background": "light"
          }
        },
        {
          "output_type": "display_data",
          "data": {
            "image/png": "[encoded data removed]",
            "text/plain": [
              "<Figure size 432x288 with 1 Axes>"
            ]
          },
          "metadata": {
            "tags": [],
            "needs_background": "light"
          }
        }
      ]
    },
    {
      "cell_type": "markdown",
      "metadata": {
        "id": "p-RP8dj2rpmN",
        "colab_type": "text"
      },
      "source": [
        "# Generating a poetry"
      ]
    },
    {
      "cell_type": "code",
      "metadata": {
        "colab_type": "code",
        "id": "6Vc6PHgxa6Hm",
        "outputId": "c4453513-49d4-4cc8-c0e6-b32a99abfa72",
        "colab": {
          "base_uri": "https://localhost:8080/",
          "height": 54
        }
      },
      "source": [
        "#Enter starting line in seed_text for poetry generator\n",
        "seed_text = \"Help me Obi Wan Kenobi, you're my only hope\"\n",
        "next_words = 100\n",
        "  \n",
        "for _ in range(next_words):\n",
        "    token_list = tokenizer.texts_to_sequences([seed_text])[0]\n",
        "    token_list = pad_sequences([token_list], maxlen=max_sequence_len-1, padding='pre')\n",
        "    predicted = model.predict_classes(token_list, verbose=0)\n",
        "    output_word = \"\"\n",
        "    for word, index in tokenizer.word_index.items():\n",
        "        if index == predicted:\n",
        "            output_word = word\n",
        "            break\n",
        "    seed_text += \" \" + output_word\n",
        "print(seed_text)"
      ],
      "execution_count": 11,
      "outputs": [
        {
          "output_type": "stream",
          "text": [
            "Help me Obi Wan Kenobi, you're my only hope with woe and pride afar behind dead white did break away and buried face of me doth matter lines keep me seen faith erred dead clearer appear his cloak faith torn dead place away dead days affords days away kind ' well mother other convert remain go parts and near come clearer his chest show buried deeds of stay thy side away to keep convertest keep to stand of light away each 'will' and overplus it had dyed his gains expired sit away away days quite greater desire away was subdued afloat away of kings express too ' not doth\n"
          ],
          "name": "stdout"
        }
      ]
    },
    {
      "cell_type": "code",
      "metadata": {
        "colab_type": "code",
        "id": "rqzE9CWXnGXO",
        "colab": {}
      },
      "source": [
        ""
      ],
      "execution_count": 0,
      "outputs": []
    }
  ]
}